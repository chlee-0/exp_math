{
 "cells": [
  {
   "cell_type": "code",
   "execution_count": 1,
   "id": "991f36f9-a86a-41d7-a5c6-a8ce5fd0066b",
   "metadata": {},
   "outputs": [
    {
     "data": {
      "text/plain": [
       "4"
      ]
     },
     "execution_count": 1,
     "metadata": {},
     "output_type": "execute_result"
    }
   ],
   "source": [
    "2+2"
   ]
  },
  {
   "cell_type": "code",
   "execution_count": 2,
   "id": "b14015f1-4e76-45c5-9bdf-1115a643bbe6",
   "metadata": {},
   "outputs": [
    {
     "data": {
      "text/plain": [
       "15"
      ]
     },
     "execution_count": 2,
     "metadata": {},
     "output_type": "execute_result"
    }
   ],
   "source": [
    "3*5"
   ]
  },
  {
   "cell_type": "code",
   "execution_count": 3,
   "id": "1a8eb5c4-db6d-4dbe-a42c-351f2ea9ff2a",
   "metadata": {},
   "outputs": [
    {
     "data": {
      "text/plain": [
       "1024"
      ]
     },
     "execution_count": 3,
     "metadata": {},
     "output_type": "execute_result"
    }
   ],
   "source": [
    "2^10"
   ]
  },
  {
   "cell_type": "code",
   "execution_count": 4,
   "id": "eaf0f191-45e4-419e-82bc-6501a5cab0f2",
   "metadata": {},
   "outputs": [
    {
     "data": {
      "text/plain": [
       "35"
      ]
     },
     "execution_count": 4,
     "metadata": {},
     "output_type": "execute_result"
    }
   ],
   "source": [
    "a = 5\n",
    "b = 7\n",
    "a*b"
   ]
  },
  {
   "cell_type": "code",
   "execution_count": 5,
   "id": "e898da95-aca8-4e57-b84e-0a2002058873",
   "metadata": {},
   "outputs": [
    {
     "data": {
      "text/plain": [
       "1.4142135623730950488016887242096980786"
      ]
     },
     "execution_count": 5,
     "metadata": {},
     "output_type": "execute_result"
    }
   ],
   "source": [
    "sqrt(2)"
   ]
  },
  {
   "cell_type": "code",
   "execution_count": 6,
   "id": "f6fe90e6-79e5-47e9-b539-06f2672b5faa",
   "metadata": {},
   "outputs": [
    {
     "data": {
      "text/plain": [
       "1.0000000000000000000000000000000000000"
      ]
     },
     "execution_count": 6,
     "metadata": {},
     "output_type": "execute_result"
    }
   ],
   "source": [
    "sin(Pi/2)"
   ]
  },
  {
   "cell_type": "code",
   "execution_count": 7,
   "id": "4dd6a705-1627-4da0-987b-fe4979116968",
   "metadata": {},
   "outputs": [
    {
     "data": {
      "text/plain": [
       "2.7182818284590452353602874713526624978"
      ]
     },
     "execution_count": 7,
     "metadata": {},
     "output_type": "execute_result"
    }
   ],
   "source": [
    "exp(1)"
   ]
  },
  {
   "cell_type": "code",
   "execution_count": 8,
   "id": "6af8fb84-63fe-4676-b66c-08893671168f",
   "metadata": {},
   "outputs": [
    {
     "data": {
      "text/plain": [
       "3628800.0000000000000000000000000000000"
      ]
     },
     "execution_count": 8,
     "metadata": {},
     "output_type": "execute_result"
    }
   ],
   "source": [
    "factorial(10)"
   ]
  },
  {
   "cell_type": "code",
   "execution_count": 8,
   "id": "d0a2ab48-581e-4c87-a5a9-352f7eb92d1a",
   "metadata": {},
   "outputs": [
    {
     "name": "stdout",
     "output_type": "stream",
     "text": [
      "1\n",
      "4\n",
      "9\n",
      "16\n",
      "25\n"
     ]
    }
   ],
   "source": [
    "for(i=1, 5, print(i^2))"
   ]
  },
  {
   "cell_type": "code",
   "execution_count": 8,
   "id": "05a185d1-7bfe-4235-8461-e006379c1cb2",
   "metadata": {},
   "outputs": [
    {
     "name": "stdout",
     "output_type": "stream",
     "text": [
      "a is greater than 3\n"
     ]
    }
   ],
   "source": [
    "a = 5\n",
    "if(a > 3, print(\"a is greater than 3\"), print(\"a is not greater than 3\"))"
   ]
  },
  {
   "cell_type": "code",
   "execution_count": 9,
   "id": "429744ac-a193-498b-a590-bb836b3e65c0",
   "metadata": {},
   "outputs": [
    {
     "data": {
      "text/plain": [
       "36"
      ]
     },
     "execution_count": 9,
     "metadata": {},
     "output_type": "execute_result"
    }
   ],
   "source": [
    "f(x) = x^2 + 2*x + 1\n",
    "f(5)"
   ]
  },
  {
   "cell_type": "code",
   "execution_count": null,
   "id": "2c2dbc12-66d5-40ef-90c5-117f1f56f745",
   "metadata": {},
   "outputs": [],
   "source": []
  }
 ],
 "metadata": {
  "kernelspec": {
   "display_name": "PARI/GP",
   "language": "gp",
   "name": "pari_jupyter"
  },
  "language_info": {
   "file_extension": ".gp",
   "mimetype": "text/x-pari-gp",
   "name": "gp"
  }
 },
 "nbformat": 4,
 "nbformat_minor": 5
}
