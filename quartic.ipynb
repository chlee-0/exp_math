{
 "cells": [
  {
   "cell_type": "markdown",
   "id": "a469b15b-4343-46cf-b230-f825c6fed832",
   "metadata": {},
   "source": [
    "## Quartic case\r\n",
    "\r\n",
    "The table presents the results of similar experiments conducted on several fourth-degree polynomials, showing the apparent density of primes $p$ for which $f$ modulo $p$ exhibits a specific decomposition type.\r\n",
    "\r\n",
    "|           $f$               |  4  | 3, 1 | 2, 2 | 2, 1, 1 | 1, 1, 1, 1 |\r\n",
    "|:---------------------------:|:---:|:----:|:----:|:-------:|:----------:|\r\n",
    "| $x^4 - x - 1$               | 1/4 | 1/3  | 1/8  |  1/4    |   1/24     |\r\n",
    "| $x^4 - x^2 + 1$             |  0  |  0   | 3/4  |   0     |   1/4      |\r\n",
    "| $x^4 + x^3 + x^2 + x + 1$   | 1/2 |  0   | 1/4  |   0     |   1/4      |\r\n",
    "| $x^4 - x^2 - 1$             | 1/4 |  0   | 3/8  |  1/4    |   1/8      |\r\n",
    "| $x^4 + 3x^2 + 7x + 4$       |  0  | 2/3  | 1/4  |   0     |   1/12     |\r\n",
    "\r\n",
    "These experiments reveal the distribution of decomposition types for various polynomials modulo different primes. The fractions represent the density of primes exhibiting each decompotion type.\r\n",
    "sition type.\r\n",
    "sition type.\r\n"
   ]
  },
  {
   "cell_type": "code",
   "execution_count": 2,
   "id": "4e0143a7-10a1-404a-b7b9-6bb556158037",
   "metadata": {},
   "outputs": [
    {
     "data": {
      "text/plain": [
       "2"
      ]
     },
     "execution_count": 2,
     "metadata": {},
     "output_type": "execute_result"
    }
   ],
   "source": [
    "1+1"
   ]
  },
  {
   "cell_type": "code",
   "execution_count": 2,
   "id": "0359eb1c-1de6-45d9-8d54-90a45c8cc049",
   "metadata": {},
   "outputs": [],
   "source": [
    "\\r gp-book.gp"
   ]
  },
  {
   "cell_type": "code",
   "execution_count": 3,
   "id": "f1a7529a-3189-472c-a820-030bc82b6808",
   "metadata": {},
   "outputs": [],
   "source": [
    "cycle_types = [[4], [3,1], [2, 2], [2, 1, 1], [1, 1, 1, 1]];"
   ]
  },
  {
   "cell_type": "code",
   "execution_count": 3,
   "id": "b8824f85-8de6-41ce-a8ca-5c4f91f0635d",
   "metadata": {},
   "outputs": [
    {
     "name": "stdout",
     "output_type": "stream",
     "text": [
      "1/4  1/4  1/4  1/4  1/4  1/4  1/4  1/4  1/4  \n",
      "1/3  1/3  1/3  1/3  1/3  1/3  1/3  1/3  1/3  \n",
      "2/17  1/8  1/8  1/8  1/8  1/8  1/8  1/8  1/8  \n",
      "1/4  1/4  1/4  1/4  1/4  1/4  1/4  1/4  1/4  \n",
      "1/24  1/24  1/24  1/24  1/24  1/24  1/24  1/24  1/24  \n"
     ]
    }
   ],
   "source": [
    "f = x^4 - x - 1;\n",
    "\n",
    "for(i = 1, length(cycle_types), {\n",
    "    poltypedensity1(f, cycle_types[i], 24, 5);\n",
    "    print(\"\");\n",
    "});"
   ]
  },
  {
   "cell_type": "code",
   "execution_count": 3,
   "id": "0d5312a1-9a98-4f94-aac4-94b6061b8306",
   "metadata": {},
   "outputs": [
    {
     "name": "stdout",
     "output_type": "stream",
     "text": [
      "0  0  0  0  0  0  0  0  0  \n",
      "0  0  0  0  0  0  0  0  0  \n",
      "3/4  3/4  3/4  3/4  3/4  3/4  3/4  3/4  3/4  \n",
      "0  0  0  0  0  0  0  0  0  \n",
      "1/4  1/4  1/4  1/4  1/4  1/4  1/4  1/4  1/4  \n"
     ]
    }
   ],
   "source": [
    "f = x^4 - x^2 + 1;\n",
    "\n",
    "for(i = 1, length(cycle_types), {\n",
    "    poltypedensity1(f, cycle_types[i], 24, 5);\n",
    "    print(\"\");\n",
    "});"
   ]
  },
  {
   "cell_type": "code",
   "execution_count": 3,
   "id": "ead2fd67-c87b-487c-b371-436aa27e4604",
   "metadata": {},
   "outputs": [
    {
     "name": "stdout",
     "output_type": "stream",
     "text": [
      "1/2  1/2  1/2  1/2  1/2  1/2  1/2  1/2  1/2  \n",
      "0  0  0  0  0  0  0  0  0  \n",
      "1/4  1/4  1/4  1/4  1/4  1/4  1/4  1/4  1/4  \n",
      "0  0  0  0  0  0  0  0  0  \n",
      "1/4  1/4  1/4  1/4  1/4  1/4  1/4  1/4  1/4  \n"
     ]
    }
   ],
   "source": [
    "f = x^4 + x^3 + x^2 + x + 1;\n",
    "\n",
    "for(i = 1, length(cycle_types), {\n",
    "    poltypedensity1(f, cycle_types[i], 24, 5);\n",
    "    print(\"\");\n",
    "});"
   ]
  },
  {
   "cell_type": "code",
   "execution_count": 3,
   "id": "646f0601-d27b-445a-8e1d-21cae97aacc7",
   "metadata": {},
   "outputs": [
    {
     "name": "stdout",
     "output_type": "stream",
     "text": [
      "1/4  1/4  1/4  1/4  1/4  1/4  1/4  1/4  1/4  \n",
      "0  0  0  0  0  0  0  0  0  \n",
      "3/8  3/8  3/8  3/8  3/8  3/8  3/8  3/8  3/8  \n",
      "1/4  1/4  1/4  1/4  1/4  1/4  1/4  1/4  1/4  \n",
      "2/17  2/17  1/8  1/8  1/8  1/8  1/8  1/8  1/8  \n"
     ]
    }
   ],
   "source": [
    "f = x^4 - x^2 -1;\n",
    "\n",
    "for(i = 1, length(cycle_types), {\n",
    "    poltypedensity1(f, cycle_types[i], 24, 5);\n",
    "    print(\"\");\n",
    "});"
   ]
  },
  {
   "cell_type": "code",
   "execution_count": 3,
   "id": "794ffa18-3cce-4c73-8e32-e283a1b659a7",
   "metadata": {},
   "outputs": [
    {
     "name": "stdout",
     "output_type": "stream",
     "text": [
      "0  0  0  0  0  0  0  0  0  \n",
      "2/3  2/3  2/3  2/3  2/3  2/3  2/3  2/3  2/3  \n",
      "1/4  6/23  1/4  1/4  1/4  1/4  1/4  1/4  1/4  \n",
      "0  0  0  0  0  0  0  0  0  \n",
      "1/12  1/13  1/12  1/12  1/12  1/12  1/13  1/12  1/12  \n"
     ]
    }
   ],
   "source": [
    "f = x^4 + 3*x^2+7*x+4;\n",
    "\n",
    "for(i = 1, length(cycle_types), {\n",
    "    poltypedensity1(f, cycle_types[i], 24, 5);\n",
    "    print(\"\");\n",
    "});"
   ]
  },
  {
   "cell_type": "code",
   "execution_count": null,
   "id": "90615232-6708-4ea8-9cda-d5f299f82ba1",
   "metadata": {},
   "outputs": [],
   "source": []
  }
 ],
 "metadata": {
  "kernelspec": {
   "display_name": "PARI/GP",
   "language": "gp",
   "name": "pari_jupyter"
  },
  "language_info": {
   "file_extension": ".gp",
   "mimetype": "text/x-pari-gp",
   "name": "gp"
  }
 },
 "nbformat": 4,
 "nbformat_minor": 5
}
