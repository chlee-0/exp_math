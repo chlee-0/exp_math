{
 "cells": [
  {
   "cell_type": "code",
   "execution_count": 2,
   "id": "47647fb8-0c27-4db0-b365-d902456da648",
   "metadata": {},
   "outputs": [
    {
     "data": {
      "text/plain": [
       "2"
      ]
     },
     "execution_count": 2,
     "metadata": {},
     "output_type": "execute_result"
    }
   ],
   "source": [
    "1+1"
   ]
  },
  {
   "cell_type": "code",
   "execution_count": 2,
   "id": "1ebaf3a0-f5c6-4610-a384-8b120d134894",
   "metadata": {},
   "outputs": [
    {
     "name": "stdout",
     "output_type": "stream",
     "text": [
      "Number field: [x^2 + 1, [0, 1], -4, 1, [Mat([1, 0.E-57 + 1.0000000000000000000000000000000000000*I]), [1, 1.0000000000000000000000000000000000000; 1, -1.0000000000000000000000000000000000000], [16, 16; 16, -16], [2, 0; 0, -2], [2, 0; 0, 2], [1, 0; 0, -1], [1, [0, -1; 1, 0]], [2]], [0.E-57 + 1.0000000000000000000000000000000000000*I], [1, x], [1, 0; 0, 1], [1, 0, 0, -1; 0, 1, 1, 0]]\n"
     ]
    }
   ],
   "source": [
    "/* Define the number field Q(sqrt(-1)) */\n",
    "K = nfinit(x^2 + 1);\n",
    "print(\"Number field: \", K);"
   ]
  },
  {
   "cell_type": "code",
   "execution_count": 2,
   "id": "2e81072c-7344-48dd-a623-992f78692c66",
   "metadata": {},
   "outputs": [
    {
     "name": "stdout",
     "output_type": "stream",
     "text": [
      "idealprimedec(nf,p,{f=0}): prime ideal decomposition of the prime number p in \n",
      "the number field nf as a vector of prime ideals. If f is present and nonzero, \n",
      "restrict the result to primes of residue degree <= f.\n",
      "\n"
     ]
    }
   ],
   "source": [
    "?idealprimedec"
   ]
  },
  {
   "cell_type": "code",
   "execution_count": 2,
   "id": "9924dd7c-8a19-459a-9d92-db1f60260dc6",
   "metadata": {},
   "outputs": [
    {
     "name": "stdout",
     "output_type": "stream",
     "text": [
      "Factorization: [[13, [-5, 1]~, 1, 1, [5, -1; 1, 5]], [13, [5, 1]~, 1, 1, [-5, -1; 1, -5]]]\n",
      "Prime factor 1: [13, [-5, 1]~, 1, 1, [5, -1; 1, 5]]\n",
      "Prime factor 2: [13, [5, 1]~, 1, 1, [-5, -1; 1, -5]]\n"
     ]
    }
   ],
   "source": [
    "factorization = idealprimedec(K, 13);\n",
    "\n",
    "print(\"Factorization: \", factorization);\n",
    "\n",
    "/* Extract prime factors and exponents */\n",
    "for (i = 1, length(factorization), {\n",
    "    print(\"Prime factor \", i, \": \", factorization[i]);\n",
    "});"
   ]
  },
  {
   "cell_type": "code",
   "execution_count": 2,
   "id": "a8e80e27-bb3a-48fa-bd08-d359380f793f",
   "metadata": {},
   "outputs": [
    {
     "name": "stdout",
     "output_type": "stream",
     "text": [
      "Factorization: [[7, [7, 0]~, 1, 2, 1]]\n",
      "Prime factor 1: [7, [7, 0]~, 1, 2, 1]\n"
     ]
    }
   ],
   "source": [
    "factorization = idealprimedec(K, 7);\n",
    "\n",
    "print(\"Factorization: \", factorization);\n",
    "\n",
    "/* Extract prime factors and exponents */\n",
    "for (i = 1, length(factorization), {\n",
    "    print(\"Prime factor \", i, \": \", factorization[i]);\n",
    "});"
   ]
  },
  {
   "cell_type": "code",
   "execution_count": null,
   "id": "cb4f58be-0e82-4c01-9995-d6872fdc9cab",
   "metadata": {},
   "outputs": [],
   "source": []
  }
 ],
 "metadata": {
  "kernelspec": {
   "display_name": "PARI/GP",
   "language": "gp",
   "name": "pari_jupyter"
  },
  "language_info": {
   "file_extension": ".gp",
   "mimetype": "text/x-pari-gp",
   "name": "gp"
  }
 },
 "nbformat": 4,
 "nbformat_minor": 5
}
