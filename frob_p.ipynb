{
 "cells": [
  {
   "cell_type": "code",
   "execution_count": 2,
   "id": "ad7e8d53-17fd-4bea-b195-250226d52e01",
   "metadata": {},
   "outputs": [
    {
     "data": {
      "text/plain": [
       "2"
      ]
     },
     "execution_count": 2,
     "metadata": {},
     "output_type": "execute_result"
    }
   ],
   "source": [
    "1+1"
   ]
  },
  {
   "cell_type": "code",
   "execution_count": 2,
   "id": "d488b948-0573-43dd-808a-6b3f400c7b66",
   "metadata": {},
   "outputs": [],
   "source": [
    "\\r gp-book.gp"
   ]
  },
  {
   "cell_type": "markdown",
   "id": "35d12877-f2e0-4c94-974b-2ec008b7f4b2",
   "metadata": {},
   "source": [
    "## $x^8+2x^7+2x^6-2x^5-2x^4-2x^3+2x^2+2x+1$"
   ]
  },
  {
   "cell_type": "code",
   "execution_count": 3,
   "id": "85985bc9-a575-4c03-af00-628da1cd9bca",
   "metadata": {},
   "outputs": [],
   "source": [
    "f= x^8+2*x^7+2*x^6-2*x^5-2*x^4-2*x^3+2*x^2+2*x+1;"
   ]
  },
  {
   "cell_type": "code",
   "execution_count": 4,
   "id": "e5e9768d-882d-466d-b041-3b1751930825",
   "metadata": {},
   "outputs": [
    {
     "data": {
      "text/plain": [
       "[x, 1/2*x^6 + 1/2*x^5 - 2*x^3 - 1/2*x^2 - 1/2*x + 1, -x^7 - 2*x^6 - 2*x^5 + 2*x^4 + 2*x^3 + 2*x^2 - 2*x - 2, -1/2*x^7 - x^6 - 1/2*x^5 + 2*x^4 + 3/2*x^3 - 3/2*x - 1, -1/2*x^7 - 1/2*x^6 + 2*x^4 + 1/2*x^3 + 1/2*x^2 - 2*x - 1, 1/2*x^7 - 1/2*x^5 - 2*x^4 + 3/2*x^3 - x^2 + 3/2*x - 1, 1/2*x^7 + x^6 + x^5 - 3/2*x^4 - 3/2*x^3 - x^2 + 2*x + 1/2, x^7 + 2*x^6 + 3/2*x^5 - 5/2*x^4 - 2*x^3 + 3/2*x + 3/2]~"
      ]
     },
     "execution_count": 4,
     "metadata": {},
     "output_type": "execute_result"
    }
   ],
   "source": [
    "galv = nfgaloisconj(f)"
   ]
  },
  {
   "cell_type": "code",
   "execution_count": 4,
   "id": "7a54751a-5ff8-479b-a6b0-d6737f054e01",
   "metadata": {},
   "outputs": [
    {
     "name": "stdout",
     "output_type": "stream",
     "text": [
      "7\t[4, 4]\t[2, 7]\n",
      "11\t[2, 2, 2, 2]\t[3, 3, 4, 4]\n",
      "13\t[2, 2, 2, 2]\t[5, 5, 8, 8]\n",
      "17\t[2, 2, 2, 2]\t[5, 5, 8, 8]\n",
      "19\t[2, 2, 2, 2]\t[3, 3, 4, 4]\n",
      "23\t[4, 4]\t[2, 7]\n",
      "29\t[1, 1, 1, 1, 1, 1, 1, 1]\t[1, 1, 1, 1, 1, 1, 1, 1]\n",
      "31\t[2, 2, 2, 2]\t[3, 3, 4, 4]\n",
      "37\t[2, 2, 2, 2]\t[5, 5, 8, 8]\n",
      "41\t[2, 2, 2, 2]\t[6, 6, 6, 6]\n",
      "43\t[4, 4]\t[2, 7]\n",
      "47\t[4, 4]\t[2, 7]\n",
      "53\t[2, 2, 2, 2]\t[5, 5, 8, 8]\n",
      "59\t[2, 2, 2, 2]\t[3, 3, 4, 4]\n",
      "61\t[2, 2, 2, 2]\t[6, 6, 6, 6]\n",
      "67\t[4, 4]\t[2, 7]\n",
      "71\t[2, 2, 2, 2]\t[3, 3, 4, 4]\n",
      "73\t[2, 2, 2, 2]\t[5, 5, 8, 8]\n",
      "79\t[2, 2, 2, 2]\t[3, 3, 4, 4]\n",
      "83\t[4, 4]\t[2, 7]\n",
      "89\t[1, 1, 1, 1, 1, 1, 1, 1]\t[1, 1, 1, 1, 1, 1, 1, 1]\n",
      "97\t[2, 2, 2, 2]\t[5, 5, 8, 8]\n"
     ]
    }
   ],
   "source": [
    " forprime(p=7,100,print(p, \"\\t\", polfacttype(f,p), \"\\t\", polallfrob(p,galv,f)))"
   ]
  },
  {
   "cell_type": "markdown",
   "id": "0008f2ac-934f-4c67-9716-41cd5ba05c0f",
   "metadata": {},
   "source": [
    "## $x^4-x^3+x^2-x+1$"
   ]
  },
  {
   "cell_type": "code",
   "execution_count": 5,
   "id": "84e74b9c-be37-441d-a1d6-5e573919c5c9",
   "metadata": {},
   "outputs": [
    {
     "data": {
      "text/plain": [
       "[x, x^3, x^7, x^9]"
      ]
     },
     "execution_count": 5,
     "metadata": {},
     "output_type": "execute_result"
    }
   ],
   "source": [
    "f= x^4-x^3+x^2-x+1;\n",
    "galv = nfgaloisconj(f)\n",
    "galv = [x, x^3, x^7 , x^9]"
   ]
  },
  {
   "cell_type": "code",
   "execution_count": 5,
   "id": "f66f99ea-8f65-43fa-a4fc-f0790c688537",
   "metadata": {},
   "outputs": [
    {
     "name": "stdout",
     "output_type": "stream",
     "text": [
      "7\t[4]\t[3]\n",
      "11\t[1, 1, 1, 1]\t[1, 1, 1, 1]\n",
      "13\t[4]\t[2]\n",
      "17\t[4]\t[3]\n",
      "19\t[2, 2]\t[4, 4]\n",
      "23\t[4]\t[2]\n",
      "29\t[2, 2]\t[4, 4]\n",
      "31\t[1, 1, 1, 1]\t[1, 1, 1, 1]\n",
      "37\t[4]\t[3]\n",
      "41\t[1, 1, 1, 1]\t[1, 1, 1, 1]\n",
      "43\t[4]\t[2]\n",
      "47\t[4]\t[3]\n",
      "53\t[4]\t[2]\n",
      "59\t[2, 2]\t[4, 4]\n",
      "61\t[1, 1, 1, 1]\t[1, 1, 1, 1]\n",
      "67\t[4]\t[3]\n",
      "71\t[1, 1, 1, 1]\t[1, 1, 1, 1]\n",
      "73\t[4]\t[2]\n",
      "79\t[2, 2]\t[4, 4]\n",
      "83\t[4]\t[2]\n",
      "89\t[2, 2]\t[4, 4]\n",
      "97\t[4]\t[3]\n"
     ]
    }
   ],
   "source": [
    "forprime(p=7,100,print(p, \"\\t\", polfacttype(f,p), \"\\t\", polallfrob(p,galv,f)))"
   ]
  },
  {
   "cell_type": "code",
   "execution_count": null,
   "id": "672f2573-7cba-4b98-8736-4bd659b1fc9a",
   "metadata": {},
   "outputs": [],
   "source": []
  }
 ],
 "metadata": {
  "kernelspec": {
   "display_name": "PARI/GP",
   "language": "gp",
   "name": "pari_jupyter"
  },
  "language_info": {
   "file_extension": ".gp",
   "mimetype": "text/x-pari-gp",
   "name": "gp"
  }
 },
 "nbformat": 4,
 "nbformat_minor": 5
}
