{
 "cells": [
  {
   "cell_type": "code",
   "execution_count": 1,
   "id": "4c604b30-15cc-4dbe-964b-1a0abfed6def",
   "metadata": {},
   "outputs": [
    {
     "data": {
      "text/plain": [
       "2"
      ]
     },
     "execution_count": 1,
     "metadata": {},
     "output_type": "execute_result"
    }
   ],
   "source": [
    "1+1"
   ]
  },
  {
   "cell_type": "code",
   "execution_count": 1,
   "id": "d728c816-2652-458a-a49d-d955ab0e10e0",
   "metadata": {},
   "outputs": [],
   "source": [
    "\\r gp-book.gp"
   ]
  },
  {
   "cell_type": "code",
   "execution_count": 2,
   "id": "06ecf6a4-257c-4f81-aea1-4fd77b8ea2ee",
   "metadata": {},
   "outputs": [],
   "source": [
    "f = x^3+x^2-2*x-1;\n",
    "g = x^3+x+1;"
   ]
  },
  {
   "cell_type": "code",
   "execution_count": 2,
   "id": "2f51d187-1bf0-413c-babe-5d28e85146f5",
   "metadata": {},
   "outputs": [
    {
     "name": "stdout",
     "output_type": "stream",
     "text": [
      "2  [3]\n",
      "3  [3]\n",
      "5  [3]\n",
      "11  [3]\n",
      "13  [1, 1, 1]\n",
      "17  [3]\n",
      "19  [3]\n",
      "23  [3]\n",
      "29  [1, 1, 1]\n",
      "31  [3]\n",
      "37  [3]\n",
      "41  [1, 1, 1]\n",
      "43  [1, 1, 1]\n",
      "47  [3]\n",
      "53  [3]\n",
      "59  [3]\n",
      "61  [3]\n",
      "67  [3]\n",
      "71  [1, 1, 1]\n",
      "73  [3]\n",
      "79  [3]\n",
      "83  [1, 1, 1]\n",
      "89  [3]\n",
      "97  [1, 1, 1]\n"
     ]
    }
   ],
   "source": [
    "pollisttype(f,100)"
   ]
  },
  {
   "cell_type": "code",
   "execution_count": 2,
   "id": "d2d91cab-af94-4272-b7ed-ec352149c671",
   "metadata": {},
   "outputs": [
    {
     "name": "stdout",
     "output_type": "stream",
     "text": [
      "2  2   [3]\n",
      "3  3   [2, 1]\n",
      "5  5   [3]\n",
      "7  7   [3]\n",
      "11  11   [2, 1]\n",
      "13  13   [2, 1]\n",
      "17  17   [2, 1]\n",
      "19  19   [3]\n",
      "23  23   [2, 1]\n",
      "29  29   [2, 1]\n",
      "37  6   [2, 1]\n",
      "41  10   [3]\n",
      "43  12   [2, 1]\n",
      "47  16   [1, 1, 1]\n",
      "53  22   [2, 1]\n",
      "59  28   [3]\n",
      "61  30   [2, 1]\n",
      "67  5   [1, 1, 1]\n",
      "71  9   [3]\n",
      "73  11   [2, 1]\n",
      "79  17   [2, 1]\n",
      "83  21   [2, 1]\n",
      "89  27   [2, 1]\n",
      "97  4   [3]\n"
     ]
    }
   ],
   "source": [
    "#display factorization modulo p with p modulo 31\n",
    "pollisttype1(g, 31, 100)"
   ]
  },
  {
   "cell_type": "code",
   "execution_count": 3,
   "id": "26270dd7-aa7a-4eeb-b669-c4c93c096597",
   "metadata": {},
   "outputs": [],
   "source": [
    "getpq(N, bd = 200) =\n",
    "{\n",
    "  local(tp);\n",
    "\n",
    "      forprime(p = 2, bd,\n",
    "        if(kronecker(-31, p) != 1, next);\n",
    "        tp = polfacttype(x^3 + x + 1, p);\n",
    "        forstep(q = p + N, bd, N,\n",
    "          if(!isprime(q) || kronecker(-31, q) != 1, next);\n",
    "          tq = polfacttype(x^3+x+1, q);\n",
    "          if(tp != tq,return([p,q, tp, tq]))));\n",
    "}"
   ]
  },
  {
   "cell_type": "code",
   "execution_count": 3,
   "id": "87420056-a0ca-4521-a138-8249c59b40cb",
   "metadata": {},
   "outputs": [
    {
     "name": "stdout",
     "output_type": "stream",
     "text": [
      "2\t[5, 47, [3], [1, 1, 1]]\n",
      "3\t[2, 47, [3], [1, 1, 1]]\n",
      "4\t[5, 149, [3], [1, 1, 1]]\n",
      "5\t[2, 47, [3], [1, 1, 1]]\n",
      "6\t[5, 47, [3], [1, 1, 1]]\n",
      "7\t[2, 149, [3], [1, 1, 1]]\n",
      "8\t[5, 149, [3], [1, 1, 1]]\n",
      "9\t[2, 47, [3], [1, 1, 1]]\n",
      "10\t[7, 47, [3], [1, 1, 1]]\n",
      "11\t[5, 379, [3], [1, 1, 1]]\n",
      "12\t[5, 149, [3], [1, 1, 1]]\n",
      "13\t[2, 67, [3], [1, 1, 1]]\n",
      "14\t[5, 47, [3], [1, 1, 1]]\n",
      "15\t[2, 47, [3], [1, 1, 1]]\n",
      "16\t[5, 149, [3], [1, 1, 1]]\n",
      "17\t[5, 379, [3], [1, 1, 1]]\n",
      "18\t[5, 131, [3], [1, 1, 1]]\n",
      "19\t[2, 173, [3], [1, 1, 1]]\n",
      "20\t[7, 47, [3], [1, 1, 1]]\n",
      "21\t[2, 149, [3], [1, 1, 1]]\n",
      "22\t[5, 379, [3], [1, 1, 1]]\n",
      "23\t[7, 283, [3], [1, 1, 1]]\n",
      "24\t[5, 149, [3], [1, 1, 1]]\n",
      "25\t[2, 227, [3], [1, 1, 1]]\n",
      "26\t[7, 293, [3], [1, 1, 1]]\n",
      "27\t[41, 149, [3], [1, 1, 1]]\n",
      "28\t[5, 173, [3], [1, 1, 1]]\n",
      "29\t[2, 379, [3], [1, 1, 1]]\n",
      "30\t[7, 67, [3], [1, 1, 1]]\n",
      "31\t[5, 67, [3], [1, 1, 1]]\n",
      "32\t[5, 293, [3], [1, 1, 1]]\n",
      "33\t[19, 283, [3], [1, 1, 1]]\n",
      "34\t[5, 379, [3], [1, 1, 1]]\n",
      "35\t[47, 257, [1, 1, 1], [3]]\n",
      "36\t[5, 149, [3], [1, 1, 1]]\n",
      "37\t[5, 227, [3], [1, 1, 1]]\n",
      "38\t[7, 349, [3], [1, 1, 1]]\n",
      "39\t[47, 281, [1, 1, 1], [3]]\n",
      "40\t[7, 47, [3], [1, 1, 1]]\n",
      "41\t[47, 211, [1, 1, 1], [3]]\n",
      "42\t[5, 47, [3], [1, 1, 1]]\n",
      "43\t[2, 131, [3], [1, 1, 1]]\n",
      "44\t[7, 227, [3], [1, 1, 1]]\n",
      "45\t[2, 47, [3], [1, 1, 1]]\n",
      "46\t[7, 283, [3], [1, 1, 1]]\n",
      "47\t[97, 379, [3], [1, 1, 1]]\n",
      "48\t[5, 149, [3], [1, 1, 1]]\n",
      "49\t[2, 149, [3], [1, 1, 1]]\n",
      "50\t[47, 97, [1, 1, 1], [3]]\n"
     ]
    }
   ],
   "source": [
    " for(N=2,50,print(N,\"\\t\",getpq(N,400)))"
   ]
  },
  {
   "cell_type": "markdown",
   "id": "17467c8f-37ca-4c29-8cb1-382f92a2d51e",
   "metadata": {},
   "source": [
    "## Density"
   ]
  },
  {
   "cell_type": "code",
   "execution_count": 4,
   "id": "518c487d-e743-4feb-94f0-fad090081e64",
   "metadata": {},
   "outputs": [],
   "source": [
    "cycle_types = [[3], [2,1], [1,1,1]];"
   ]
  },
  {
   "cell_type": "code",
   "execution_count": 4,
   "id": "105a1c70-51c1-4bb4-8c32-557eb4dae275",
   "metadata": {},
   "outputs": [
    {
     "name": "stdout",
     "output_type": "stream",
     "text": [
      "2/3  2/3  2/3  2/3  2/3  2/3  2/3  2/3  2/3  \n",
      "0  0  0  0  0  0  0  0  0  \n",
      "1/3  1/3  1/3  1/3  1/3  1/3  1/3  1/3  1/3  \n"
     ]
    }
   ],
   "source": [
    "for(i = 1, length(cycle_types), {\n",
    "    poltypedensity1(f, cycle_types[i], 6, 5);\n",
    "    print(\"\");\n",
    "});"
   ]
  },
  {
   "cell_type": "code",
   "execution_count": 4,
   "id": "23f47c2d-3513-4e06-ab5a-f399ba8de535",
   "metadata": {},
   "outputs": [
    {
     "name": "stdout",
     "output_type": "stream",
     "text": [
      "1/3  1/3  1/3  1/3  1/3  1/3  1/3  1/3  1/3  \n",
      "1/2  1/2  1/2  1/2  1/2  1/2  1/2  1/2  1/2  \n",
      "1/6  1/6  1/6  1/6  1/6  1/6  1/6  1/6  1/6  \n"
     ]
    }
   ],
   "source": [
    "for(i = 1, length(cycle_types), {\n",
    "    poltypedensity1(g, cycle_types[i], 6, 5);\n",
    "    print(\"\");\n",
    "});"
   ]
  },
  {
   "cell_type": "code",
   "execution_count": null,
   "id": "c4e3bc35-2f06-4b00-a182-6fe8782c8f68",
   "metadata": {},
   "outputs": [],
   "source": []
  }
 ],
 "metadata": {
  "kernelspec": {
   "display_name": "PARI/GP",
   "language": "gp",
   "name": "pari_jupyter"
  },
  "language_info": {
   "file_extension": ".gp",
   "mimetype": "text/x-pari-gp",
   "name": "gp"
  }
 },
 "nbformat": 4,
 "nbformat_minor": 5
}
